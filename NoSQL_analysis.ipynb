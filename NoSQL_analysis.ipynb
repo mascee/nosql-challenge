{
 "cells": [
  {
   "cell_type": "markdown",
   "id": "9a57c4c6",
   "metadata": {},
   "source": [
    "# Eat Safe, Love"
   ]
  },
  {
   "cell_type": "markdown",
   "id": "064ef857",
   "metadata": {},
   "source": [
    "## Notebook Set Up"
   ]
  },
  {
   "cell_type": "code",
   "execution_count": 2,
   "id": "3ecdd008",
   "metadata": {},
   "outputs": [],
   "source": [
    "from pymongo import MongoClient\n",
    "import pandas as pd\n",
    "from pprint import pprint"
   ]
  },
  {
   "cell_type": "code",
   "execution_count": 3,
   "id": "59390c4a",
   "metadata": {},
   "outputs": [],
   "source": [
    "# Create an instance of MongoClient\n",
    "mongo = MongoClient(port=27017)"
   ]
  },
  {
   "cell_type": "code",
   "execution_count": 4,
   "id": "71e373c1",
   "metadata": {},
   "outputs": [],
   "source": [
    "# assign the uk_food database to a variable name\n",
    "db = mongo['uk_food']"
   ]
  },
  {
   "cell_type": "code",
   "execution_count": 5,
   "id": "18ab463c",
   "metadata": {},
   "outputs": [
    {
     "name": "stdout",
     "output_type": "stream",
     "text": [
      "['establishments']\n"
     ]
    }
   ],
   "source": [
    "# review the collections in our database\n",
    "print(db.list_collection_names())"
   ]
  },
  {
   "cell_type": "code",
   "execution_count": 6,
   "id": "11c9f11b",
   "metadata": {},
   "outputs": [],
   "source": [
    "# assign the collection to a variable\n",
    "establishments = db['establishments']"
   ]
  },
  {
   "cell_type": "code",
   "execution_count": 7,
   "id": "d870f4c0",
   "metadata": {},
   "outputs": [
    {
     "name": "stdout",
     "output_type": "stream",
     "text": [
      "{'AddressLine1': 'St Marys Church Of England Primary School',\n",
      " 'AddressLine2': 'Warren Road',\n",
      " 'AddressLine3': 'Folkestone',\n",
      " 'AddressLine4': 'Kent',\n",
      " 'BusinessName': 'St Marys COE (aided) Primary School',\n",
      " 'BusinessType': 'School/college/university',\n",
      " 'BusinessTypeID': 7845,\n",
      " 'ChangesByServerID': 0,\n",
      " 'Distance': 4591.871474174837,\n",
      " 'FHRSID': 289353,\n",
      " 'LocalAuthorityBusinessID': 'PI/000002468',\n",
      " 'LocalAuthorityCode': '188',\n",
      " 'LocalAuthorityEmailAddress': 'foodteam@folkestone-hythe.gov.uk',\n",
      " 'LocalAuthorityName': 'Folkestone and Hythe',\n",
      " 'LocalAuthorityWebSite': 'http://www.folkestone-hythe.gov.uk',\n",
      " 'NewRatingPending': False,\n",
      " 'Phone': '',\n",
      " 'PostCode': 'CT19 6QH',\n",
      " 'RatingDate': '2016-09-13T00:00:00',\n",
      " 'RatingKey': 'fhrs_5_en-gb',\n",
      " 'RatingValue': 5,\n",
      " 'RightToReply': '',\n",
      " 'SchemeType': 'FHRS',\n",
      " '_id': ObjectId('671c79062e746b1c20de20a0'),\n",
      " 'geocode': {'latitude': '51.085797', 'longitude': '1.194762'},\n",
      " 'links': [{'href': 'https://api.ratings.food.gov.uk/establishments/289353',\n",
      "            'rel': 'self'}],\n",
      " 'meta': {'dataSource': None,\n",
      "          'extractDate': '0001-01-01T00:00:00',\n",
      "          'itemCount': 0,\n",
      "          'pageNumber': 0,\n",
      "          'pageSize': 0,\n",
      "          'returncode': None,\n",
      "          'totalCount': 0,\n",
      "          'totalPages': 0},\n",
      " 'scores': {'ConfidenceInManagement': 0, 'Hygiene': 0, 'Structural': 0}}\n",
      "{'AddressLine1': '16 The Stade',\n",
      " 'AddressLine2': 'Folkestone',\n",
      " 'AddressLine3': 'Kent',\n",
      " 'AddressLine4': '',\n",
      " 'BusinessName': 'Mariner',\n",
      " 'BusinessType': 'Pub/bar/nightclub',\n",
      " 'BusinessTypeID': 7843,\n",
      " 'ChangesByServerID': 0,\n",
      " 'Distance': 4591.912144538092,\n",
      " 'FHRSID': 289560,\n",
      " 'LocalAuthorityBusinessID': 'PI/000039927',\n",
      " 'LocalAuthorityCode': '188',\n",
      " 'LocalAuthorityEmailAddress': 'foodteam@folkestone-hythe.gov.uk',\n",
      " 'LocalAuthorityName': 'Folkestone and Hythe',\n",
      " 'LocalAuthorityWebSite': 'http://www.folkestone-hythe.gov.uk',\n",
      " 'NewRatingPending': False,\n",
      " 'Phone': '',\n",
      " 'PostCode': 'CT19 6AB',\n",
      " 'RatingDate': '2019-03-19T00:00:00',\n",
      " 'RatingKey': 'fhrs_5_en-gb',\n",
      " 'RatingValue': 5,\n",
      " 'RightToReply': '',\n",
      " 'SchemeType': 'FHRS',\n",
      " '_id': ObjectId('671c79062e746b1c20de20a1'),\n",
      " 'geocode': {'latitude': '51.08084', 'longitude': '1.188537'},\n",
      " 'links': [{'href': 'https://api.ratings.food.gov.uk/establishments/289560',\n",
      "            'rel': 'self'}],\n",
      " 'meta': {'dataSource': None,\n",
      "          'extractDate': '0001-01-01T00:00:00',\n",
      "          'itemCount': 0,\n",
      "          'pageNumber': 0,\n",
      "          'pageSize': 0,\n",
      "          'returncode': None,\n",
      "          'totalCount': 0,\n",
      "          'totalPages': 0},\n",
      " 'scores': {'ConfidenceInManagement': 0, 'Hygiene': 0, 'Structural': 5}}\n",
      "{'AddressLine1': '1 The Stade',\n",
      " 'AddressLine2': 'Folkestone',\n",
      " 'AddressLine3': 'Kent',\n",
      " 'AddressLine4': '',\n",
      " 'BusinessName': 'Folkestone Trawlers Shop',\n",
      " 'BusinessType': 'Retailers - other',\n",
      " 'BusinessTypeID': 4613,\n",
      " 'ChangesByServerID': 0,\n",
      " 'Distance': 4591.912144538092,\n",
      " 'FHRSID': 344689,\n",
      " 'LocalAuthorityBusinessID': 'PI/000002095',\n",
      " 'LocalAuthorityCode': '188',\n",
      " 'LocalAuthorityEmailAddress': 'foodteam@folkestone-hythe.gov.uk',\n",
      " 'LocalAuthorityName': 'Folkestone and Hythe',\n",
      " 'LocalAuthorityWebSite': 'http://www.folkestone-hythe.gov.uk',\n",
      " 'NewRatingPending': False,\n",
      " 'Phone': '',\n",
      " 'PostCode': 'CT19 6AB',\n",
      " 'RatingDate': '2020-02-14T00:00:00',\n",
      " 'RatingKey': 'fhrs_5_en-gb',\n",
      " 'RatingValue': 5,\n",
      " 'RightToReply': '',\n",
      " 'SchemeType': 'FHRS',\n",
      " '_id': ObjectId('671c79062e746b1c20de20a3'),\n",
      " 'geocode': {'latitude': '51.08084', 'longitude': '1.188537'},\n",
      " 'links': [{'href': 'https://api.ratings.food.gov.uk/establishments/344689',\n",
      "            'rel': 'self'}],\n",
      " 'meta': {'dataSource': None,\n",
      "          'extractDate': '0001-01-01T00:00:00',\n",
      "          'itemCount': 0,\n",
      "          'pageNumber': 0,\n",
      "          'pageSize': 0,\n",
      "          'returncode': None,\n",
      "          'totalCount': 0,\n",
      "          'totalPages': 0},\n",
      " 'scores': {'ConfidenceInManagement': 5, 'Hygiene': 0, 'Structural': 5}}\n",
      "{'AddressLine1': 'Folkestone Harbour',\n",
      " 'AddressLine2': 'Harbour Approach Road',\n",
      " 'AddressLine3': 'Folkestone',\n",
      " 'AddressLine4': 'Kent',\n",
      " 'BusinessName': 'Docker',\n",
      " 'BusinessType': 'Retailers - other',\n",
      " 'BusinessTypeID': 4613,\n",
      " 'ChangesByServerID': 0,\n",
      " 'Distance': 4591.914705329384,\n",
      " 'FHRSID': 894592,\n",
      " 'LocalAuthorityBusinessID': 'PI/000074396',\n",
      " 'LocalAuthorityCode': '188',\n",
      " 'LocalAuthorityEmailAddress': 'foodteam@folkestone-hythe.gov.uk',\n",
      " 'LocalAuthorityName': 'Folkestone and Hythe',\n",
      " 'LocalAuthorityWebSite': 'http://www.folkestone-hythe.gov.uk',\n",
      " 'NewRatingPending': False,\n",
      " 'Phone': '',\n",
      " 'PostCode': '',\n",
      " 'RatingDate': '2018-04-18T00:00:00',\n",
      " 'RatingKey': 'fhrs_5_en-gb',\n",
      " 'RatingValue': 5,\n",
      " 'RightToReply': '',\n",
      " 'SchemeType': 'FHRS',\n",
      " '_id': ObjectId('671c79062e746b1c20de20a4'),\n",
      " 'geocode': {'latitude': '51.0783519967076', 'longitude': '1.18590330311705'},\n",
      " 'links': [{'href': 'https://api.ratings.food.gov.uk/establishments/894592',\n",
      "            'rel': 'self'}],\n",
      " 'meta': {'dataSource': None,\n",
      "          'extractDate': '0001-01-01T00:00:00',\n",
      "          'itemCount': 0,\n",
      "          'pageNumber': 0,\n",
      "          'pageSize': 0,\n",
      "          'returncode': None,\n",
      "          'totalCount': 0,\n",
      "          'totalPages': 0},\n",
      " 'scores': {'ConfidenceInManagement': 5, 'Hygiene': 0, 'Structural': 0}}\n",
      "{'AddressLine1': '23 The Stade',\n",
      " 'AddressLine2': 'Folkestone',\n",
      " 'AddressLine3': 'Kent',\n",
      " 'AddressLine4': '',\n",
      " 'BusinessName': 'The Ship',\n",
      " 'BusinessType': 'Pub/bar/nightclub',\n",
      " 'BusinessTypeID': 7843,\n",
      " 'ChangesByServerID': 0,\n",
      " 'Distance': 4591.912144538092,\n",
      " 'FHRSID': 289352,\n",
      " 'LocalAuthorityBusinessID': 'PI/000002460',\n",
      " 'LocalAuthorityCode': '188',\n",
      " 'LocalAuthorityEmailAddress': 'foodteam@folkestone-hythe.gov.uk',\n",
      " 'LocalAuthorityName': 'Folkestone and Hythe',\n",
      " 'LocalAuthorityWebSite': 'http://www.folkestone-hythe.gov.uk',\n",
      " 'NewRatingPending': False,\n",
      " 'Phone': '',\n",
      " 'PostCode': 'CT19 6AB',\n",
      " 'RatingDate': '2015-08-27T00:00:00',\n",
      " 'RatingKey': 'fhrs_5_en-gb',\n",
      " 'RatingValue': 5,\n",
      " 'RightToReply': '',\n",
      " 'SchemeType': 'FHRS',\n",
      " '_id': ObjectId('671c79062e746b1c20de20a5'),\n",
      " 'geocode': {'latitude': '51.08084', 'longitude': '1.188537'},\n",
      " 'links': [{'href': 'https://api.ratings.food.gov.uk/establishments/289352',\n",
      "            'rel': 'self'}],\n",
      " 'meta': {'dataSource': None,\n",
      "          'extractDate': '0001-01-01T00:00:00',\n",
      "          'itemCount': 0,\n",
      "          'pageNumber': 0,\n",
      "          'pageSize': 0,\n",
      "          'returncode': None,\n",
      "          'totalCount': 0,\n",
      "          'totalPages': 0},\n",
      " 'scores': {'ConfidenceInManagement': 5, 'Hygiene': 5, 'Structural': 5}}\n"
     ]
    }
   ],
   "source": [
    "for document in establishments.find().limit(5):\n",
    "    pprint(document)"
   ]
  },
  {
   "cell_type": "markdown",
   "id": "d5671434",
   "metadata": {},
   "source": [
    "## Part 3: Exploratory Analysis\n",
    "Unless otherwise stated, for each question: \n",
    "* Use `count_documents` to display the number of documents contained in the result.\n",
    "* Display the first document in the results using `pprint`.\n",
    "* Convert the result to a Pandas DataFrame, print the number of rows in the DataFrame, and display the first 10 rows."
   ]
  },
  {
   "cell_type": "markdown",
   "id": "314bd884",
   "metadata": {},
   "source": [
    "### 1. Which establishments have a hygiene score equal to 20?"
   ]
  },
  {
   "cell_type": "code",
   "execution_count": null,
   "id": "c2da7648",
   "metadata": {},
   "outputs": [],
   "source": [
    "# Find the establishments with a hygiene score of 20\n",
    "query = \n",
    "\n",
    "# Use count_documents to display the number of documents in the result\n",
    "\n",
    "# Display the first document in the results using pprint\n"
   ]
  },
  {
   "cell_type": "code",
   "execution_count": null,
   "id": "a6e5cece",
   "metadata": {},
   "outputs": [],
   "source": [
    "# Convert the result to a Pandas DataFrame\n",
    "\n",
    "# Display the number of rows in the DataFrame\n",
    "\n",
    "# Display the first 10 rows of the DataFrame\n"
   ]
  },
  {
   "cell_type": "markdown",
   "id": "0ef4395a",
   "metadata": {},
   "source": [
    "### 2. Which establishments in London have a `RatingValue` greater than or equal to 4?"
   ]
  },
  {
   "cell_type": "code",
   "execution_count": null,
   "id": "93c63829",
   "metadata": {},
   "outputs": [],
   "source": [
    "# Find the establishments with London as the Local Authority and has a RatingValue greater than or equal to 4.\n",
    "query =\n",
    "\n",
    "# Use count_documents to display the number of documents in the result\n",
    "\n",
    "# Display the first document in the results using pprint\n"
   ]
  },
  {
   "cell_type": "code",
   "execution_count": null,
   "id": "07e24ccb",
   "metadata": {},
   "outputs": [],
   "source": [
    "# Convert the result to a Pandas DataFrame\n",
    "\n",
    "# Display the number of rows in the DataFrame\n",
    "\n",
    "# Display the first 10 rows of the DataFrame\n"
   ]
  },
  {
   "attachments": {},
   "cell_type": "markdown",
   "id": "4e570caf",
   "metadata": {},
   "source": [
    "### 3. What are the top 5 establishments with a `RatingValue` rating value of 5, sorted by lowest hygiene score, nearest to the new restaurant added, \"Penang Flavours\"?"
   ]
  },
  {
   "cell_type": "code",
   "execution_count": null,
   "id": "7f599f3d",
   "metadata": {},
   "outputs": [],
   "source": [
    "# Search within 0.01 degree on either side of the latitude and longitude.\n",
    "# Rating value must equal 5\n",
    "# Sort by hygiene score\n",
    "\n",
    "degree_search = 0.01\n",
    "latitude =\n",
    "longitude =\n",
    "\n",
    "query =\n",
    "sort =\n",
    "limit =\n",
    "\n",
    "# Print the results\n"
   ]
  },
  {
   "cell_type": "code",
   "execution_count": null,
   "id": "a6ad16f7",
   "metadata": {},
   "outputs": [],
   "source": [
    "# Convert result to Pandas DataFrame\n"
   ]
  },
  {
   "cell_type": "markdown",
   "id": "67281254",
   "metadata": {},
   "source": [
    "### 4. How many establishments in each Local Authority area have a hygiene score of 0?"
   ]
  },
  {
   "cell_type": "code",
   "execution_count": null,
   "id": "4eeb227e",
   "metadata": {},
   "outputs": [],
   "source": [
    "# Create a pipeline that:\n",
    "# 1. Matches establishments with a hygiene score of 0\n",
    "# 2. Groups the matches by Local Authority\n",
    "# 3. Sorts the matches from highest to lowest\n",
    "\n",
    "# Print the number of documents in the result\n",
    "\n",
    "# Print the first 10 results\n"
   ]
  },
  {
   "cell_type": "code",
   "execution_count": null,
   "id": "d8aab364",
   "metadata": {},
   "outputs": [],
   "source": [
    "# Convert the result to a Pandas DataFrame\n",
    "\n",
    "# Display the number of rows in the DataFrame\n",
    "\n",
    "# Display the first 10 rows of the DataFrame\n"
   ]
  }
 ],
 "metadata": {
  "kernelspec": {
   "display_name": "dev",
   "language": "python",
   "name": "python3"
  },
  "language_info": {
   "codemirror_mode": {
    "name": "ipython",
    "version": 3
   },
   "file_extension": ".py",
   "mimetype": "text/x-python",
   "name": "python",
   "nbconvert_exporter": "python",
   "pygments_lexer": "ipython3",
   "version": "3.10.14"
  }
 },
 "nbformat": 4,
 "nbformat_minor": 5
}
